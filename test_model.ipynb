{
 "cells": [
  {
   "cell_type": "code",
   "execution_count": 3,
   "metadata": {},
   "outputs": [
    {
     "name": "stderr",
     "output_type": "stream",
     "text": [
      "UsageError: Line magic function `%matplotlibe` not found.\n"
     ]
    }
   ],
   "source": [
    "import logging\n",
    "\n",
    "from models.training_utils import choose_model\n",
    "from utils.const import Models_types\n",
    "from utils.data_processing import load_input\n",
    "from utils.evaluation import evaluate\n",
    "\n",
    "logging.basicConfig(level=logging.DEBUG)\n",
    "logging.getLogger().setLevel(logging.INFO)\n",
    "\n",
    "logger = logging.getLogger(__name__)\n",
    "\n",
    "ex = Experiment('EyeSegnmentation', interactive=True)\n",
    "ex.logger = logger\n",
    "\n",
    "class Args():\n",
    "    def __init__(self):\n",
    "        self.data_path = 'data/drive/training'\n",
    "        self.data_path_training = 'data/drive/training'\n",
    "        self.data_path_validation = 'data/drive/validation'\n",
    "        self.data_path_test = 'data/drive/test'\n",
    "        self.num_epochs = 10000\n",
    "        self.batch_size = 1\n",
    "        self.plot_loss = True\n",
    "        self.checkpoint_path = 'checkpoints/v1'\n",
    "        self.is_save_model = False\n",
    "        #model_load_path = None\n",
    "        self.model_load_path = 'model_outputs/v1/20190609-150526'\n",
    "        self.display_images = True\n",
    "        self.model_type = Models_types.FC\n",
    "    \n",
    "\n",
    "def main():\n",
    "    args = Args()\n",
    "    logger.info(args)\n",
    "\n",
    "    # ------ Michals modification: split train and validation in advance ------ #\n",
    "    # train and validation images should be placed in args.data_path_training and args.data_path_validation\n",
    "    # last 4 images (#37-40) are used as validation\n",
    "    loader_train = EyeDatasetOverfitCenter(args.data_path_training, augment=True, normalization=True)\n",
    "    loader_val = EyeDatasetOverfitCenter(args.data_path_validation, augment=True, normalization=True)\n",
    "    loader_test = EyeDatasetOverfitCenter(args.data_path_test, augment=True, normalization=True)\n",
    "\n",
    "    # loader = EyeDataset(args.data_path, augment=True)\n",
    "    ## training_data = DataLoader(loader, shuffle=True, batch_size=1, sampler=train_sampler)\n",
    "    # training_data, test_data = split_dataset_to_train_and_test(loader, args.batch_size)\n",
    "\n",
    "    training_data = DataLoader(loader_train, batch_size=args.batch_size)\n",
    "    validatoin_data = DataLoader(loader_val, batch_size=args.batch_size)\n",
    "    test_data = DataLoader(loader_test, batch_size=args.batch_size)\n",
    "    # ------------------------------------------------------------------------- #\n",
    "\n",
    "    model = choose_model(args, training_data)\n",
    "    # TEST\n",
    "    print(\"evaluate on training data\")\n",
    "    evaluate_results(args, model, training_data)\n",
    "    print(\"evaluate on validation data\")\n",
    "    evaluate_results(args, model, validatoin_data)\n",
    "    # print(\"evaluate on test data\")\n",
    "    # evaluate_results(args, model, test_data)\n",
    "\n",
    "main()"
   ]
  },
  {
   "cell_type": "code",
   "execution_count": null,
   "metadata": {},
   "outputs": [],
   "source": []
  }
 ],
 "metadata": {
  "kernelspec": {
   "display_name": "Python 3",
   "language": "python",
   "name": "python3"
  },
  "language_info": {
   "codemirror_mode": {
    "name": "ipython",
    "version": 3
   },
   "file_extension": ".py",
   "mimetype": "text/x-python",
   "name": "python",
   "nbconvert_exporter": "python",
   "pygments_lexer": "ipython3",
   "version": "3.7.3"
  }
 },
 "nbformat": 4,
 "nbformat_minor": 2
}
