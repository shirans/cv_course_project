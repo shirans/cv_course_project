{
 "cells": [
  {
   "cell_type": "code",
   "execution_count": null,
   "metadata": {
    "collapsed": true
   },
   "outputs": [],
   "source": [
    "import logging\n",
    "\n",
    "from models.training_utils import choose_model\n",
    "from utils.const import Models_types\n",
    "from utils.data_processing import load_input\n",
    "from utils.evaluation import evaluate\n",
    "\n",
    "logging.basicConfig(level=logging.DEBUG)\n",
    "logging.getLogger().setLevel(logging.INFO)\n",
    "\n",
    "logger = logging.getLogger(__name__)\n",
    "\n",
    "class Args():\n",
    "    def __init__(self):\n",
    "        self.data_path = 'data/drive/training'\n",
    "        self.data_path_training = 'data/drive/training'\n",
    "        self.data_path_validation = 'data/drive/validation'\n",
    "        self.data_path_test = 'data/drive/test'\n",
    "        self.num_epochs = 10000\n",
    "        self.batch_size = 1\n",
    "        self.plot_loss = True\n",
    "        self.checkpoint_path = 'checkpoints/v1'\n",
    "        self.is_save_model = False\n",
    "        #model_load_path = None\n",
    "        self.model_load_path = 'model_outputs/v1/20190609-150526'\n",
    "        self.display_images = True\n",
    "        self.model_type = Models_types.FC\n",
    "    \n",
    "\n",
    "def main():\n",
    "    args = Args()\n",
    "    logger.info(args)\n",
    "\n",
    "    logger.info(args)\n",
    "    training_data, validatoin_data = load_input(args)\n",
    "    model = choose_model(args, training_data)\n",
    "    # TEST\n",
    "    evaluate(args, model, training_data, validatoin_data)\n",
    "\n",
    "main()"
   ]
  }
 ],
 "metadata": {
  "kernelspec": {
   "display_name": "Python 2",
   "language": "python",
   "name": "python2"
  },
  "language_info": {
   "codemirror_mode": {
    "name": "ipython",
    "version": 2
   },
   "file_extension": ".py",
   "mimetype": "text/x-python",
   "name": "python",
   "nbconvert_exporter": "python",
   "pygments_lexer": "ipython2",
   "version": "2.7.6"
  }
 },
 "nbformat": 4,
 "nbformat_minor": 0
}
